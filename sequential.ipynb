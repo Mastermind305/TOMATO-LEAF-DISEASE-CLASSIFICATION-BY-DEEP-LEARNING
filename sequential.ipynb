{
  "cells": [
    {
      "cell_type": "markdown",
      "metadata": {
        "colab_type": "text",
        "id": "view-in-github"
      },
      "source": [
        "<a href=\"https://colab.research.google.com/github/Mastermind305/TOMATO-LEAF-DISEASE-CLASSIFICATION-BY-DEEP-LEARNING/blob/main/sequential.ipynb\" target=\"_parent\"><img src=\"https://colab.research.google.com/assets/colab-badge.svg\" alt=\"Open In Colab\"/></a>"
      ]
    },
    {
      "cell_type": "code",
      "execution_count": 1,
      "metadata": {
        "id": "_09RS-GWWdK5"
      },
      "outputs": [],
      "source": [
        "import numpy as np\n",
        "import pandas as pd\n",
        "import matplotlib.pyplot as plt\n",
        "import seaborn as sns\n",
        "import scipy\n",
        "%matplotlib inline\n",
        "import tensorflow as tf\n",
        "from keras.preprocessing.image import ImageDataGenerator"
      ]
    },
    {
      "cell_type": "code",
      "execution_count": null,
      "metadata": {
        "colab": {
          "base_uri": "https://localhost:8080/"
        },
        "id": "wXj2cEhfWq53",
        "outputId": "cff45d1c-d0f8-47ca-fc1e-828a6e9cb51d"
      },
      "outputs": [],
      "source": [
        "from google.colab import drive\n",
        "drive.mount('/content/drive')"
      ]
    },
    {
      "cell_type": "code",
      "execution_count": null,
      "metadata": {
        "colab": {
          "base_uri": "https://localhost:8080/"
        },
        "id": "zuz4FPImW0Yb",
        "outputId": "60ae09c2-5943-4cd8-9e5b-6558bb771a01"
      },
      "outputs": [],
      "source": [
        "!unrar x '/content/drive/MyDrive/tomato/train.rar'\n",
        "!unrar x '/content/drive/MyDrive/tomato/val.rar'"
      ]
    },
    {
      "cell_type": "code",
      "execution_count": null,
      "metadata": {
        "colab": {
          "base_uri": "https://localhost:8080/"
        },
        "id": "kWJes3KtXCi1",
        "outputId": "ff18795e-25f4-4d18-c9f2-0073cac60642"
      },
      "outputs": [],
      "source": [
        "import os\n",
        "train_path = '/content/train'\n",
        "test_path = '/content/val'\n",
        "for dirname, _, filenames in os.walk(train_path):\n",
        "    print(dirname)"
      ]
    },
    {
      "cell_type": "code",
      "execution_count": null,
      "metadata": {
        "colab": {
          "base_uri": "https://localhost:8080/"
        },
        "id": "zTyEg-WHXQdU",
        "outputId": "5197b683-e1de-46eb-a122-a62df42b67fe"
      },
      "outputs": [],
      "source": [
        "train_datagen = ImageDataGenerator(\n",
        "        rescale=1./255,\n",
        "        shear_range=0.2,\n",
        "        zoom_range=0.2,\n",
        "        horizontal_flip=True)\n",
        "\n",
        "test_datagen = ImageDataGenerator(rescale=1./255)\n",
        "\n",
        "train_generator = train_datagen.flow_from_directory(\n",
        "        '/content/train',\n",
        "        target_size=(150, 150),\n",
        "        batch_size=32,\n",
        "        class_mode='categorical')"
      ]
    },
    {
      "cell_type": "code",
      "execution_count": null,
      "metadata": {
        "colab": {
          "base_uri": "https://localhost:8080/"
        },
        "id": "Hi9oZjtAXin5",
        "outputId": "508f4dd8-db12-4c2e-ddab-9a1a11364170"
      },
      "outputs": [],
      "source": [
        "test_generator = test_datagen.flow_from_directory(\n",
        "        '/content/val',\n",
        "        target_size=(150, 150),\n",
        "        batch_size=8,\n",
        "        class_mode='categorical')"
      ]
    },
    {
      "cell_type": "code",
      "execution_count": null,
      "metadata": {
        "colab": {
          "base_uri": "https://localhost:8080/"
        },
        "id": "QnDVY07SXt1H",
        "outputId": "ca04b601-4eac-4c2c-92aa-5025a5055f19"
      },
      "outputs": [],
      "source": [
        "# Third model\n",
        "\n",
        "cnn3 = tf.keras.models.Sequential()\n",
        "\n",
        "#Convolution layer 1\n",
        "cnn3.add(tf.keras.layers.Conv2D(filters=32,kernel_size = 3, activation='relu',input_shape=[150, 150,3]))\n",
        "\n",
        "# Pooling 1\n",
        "cnn3.add(tf.keras.layers.MaxPool2D(pool_size=1, strides=1))\n",
        "\n",
        "#Convolution layer 2\n",
        "cnn3.add(tf.keras.layers.Conv2D(filters=32,kernel_size = 3, activation='relu',input_shape=[150, 150,3]))\n",
        "\n",
        "# Pooling 2\n",
        "cnn3.add(tf.keras.layers.MaxPool2D(pool_size=1, strides=1))\n",
        "\n",
        "# Flattening\n",
        "cnn3.add(tf.keras.layers.Flatten())\n",
        "\n",
        "#Full Conncetion\n",
        "cnn3.add(tf.keras.layers.Dense(units=128,activation='relu'))\n",
        "\n",
        "#Output Layer\n",
        "cnn3.add(tf.keras.layers.Dense(units=10,activation='softmax'))\n",
        "\n",
        "#Compiling\n",
        "cnn3.compile(optimizer='adam',loss='binary_crossentropy',metrics=['accuracy'])\n",
        "\n",
        "# Summary of the model\n",
        "cnn3.summary()\n",
        "\n",
        "# Fit\n",
        "temp = cnn3.fit(x = train_generator, validation_data=test_generator,steps_per_epoch=125,validation_steps=125, epochs=25)"
      ]
    },
    {
      "cell_type": "code",
      "execution_count": null,
      "metadata": {
        "colab": {
          "base_uri": "https://localhost:8080/",
          "height": 860
        },
        "id": "Eu6n1hwwXynF",
        "outputId": "a2766d5a-b93b-4bbb-a3fa-ea4f3d630dae"
      },
      "outputs": [],
      "source": [
        "# plot the loss\n",
        "plt.plot(temp.history['loss'], label='train loss')\n",
        "plt.plot(temp.history['val_loss'], label='val loss')\n",
        "plt.legend()\n",
        "plt.show()\n",
        "plt.savefig('LossVal3_loss')\n",
        "\n",
        "# plot the accuracy\n",
        "plt.plot(temp.history['accuracy'], label='train acc')\n",
        "plt.plot(temp.history['val_accuracy'], label='val acc')\n",
        "plt.legend()\n",
        "plt.show()\n",
        "plt.savefig('AccVal3_acc')"
      ]
    },
    {
      "cell_type": "code",
      "execution_count": null,
      "metadata": {
        "colab": {
          "base_uri": "https://localhost:8080/"
        },
        "id": "nJTPLGDFhTE4",
        "outputId": "5e6f1eab-e580-497e-f0a6-bbbf0726b79b"
      },
      "outputs": [],
      "source": [
        "cnn3.save('sequential_model.h5')"
      ]
    },
    {
      "cell_type": "code",
      "execution_count": null,
      "metadata": {
        "id": "yPxGSkvmhfc9"
      },
      "outputs": [],
      "source": []
    }
  ],
  "metadata": {
    "accelerator": "GPU",
    "colab": {
      "authorship_tag": "ABX9TyMZohSjVQOzPFnEGmCzFOpc",
      "gpuType": "T4",
      "include_colab_link": true,
      "provenance": []
    },
    "kernelspec": {
      "display_name": "Python 3",
      "name": "python3"
    },
    "language_info": {
      "name": "python"
    }
  },
  "nbformat": 4,
  "nbformat_minor": 0
}
