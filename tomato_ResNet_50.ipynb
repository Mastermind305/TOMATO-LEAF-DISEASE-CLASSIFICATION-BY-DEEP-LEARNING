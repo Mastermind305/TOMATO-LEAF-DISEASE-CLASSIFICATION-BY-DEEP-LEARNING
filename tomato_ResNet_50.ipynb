{
  "cells": [
    {
      "cell_type": "markdown",
      "metadata": {
        "colab_type": "text",
        "id": "view-in-github"
      },
      "source": [
        "<a href=\"https://colab.research.google.com/github/Mastermind305/TOMATO-LEAF-DISEASE-CLASSIFICATION-BY-DEEP-LEARNING/blob/main/tomato_ResNet_50.ipynb\" target=\"_parent\"><img src=\"https://colab.research.google.com/assets/colab-badge.svg\" alt=\"Open In Colab\"/></a>"
      ]
    },
    {
      "cell_type": "code",
      "execution_count": 2,
      "metadata": {
        "id": "RFbVPKWoEJ4Q"
      },
      "outputs": [],
      "source": [
        "import numpy as np\n",
        "import pandas as pd\n",
        "from tensorflow.keras.preprocessing.image import ImageDataGenerator\n",
        "\n",
        "# Models\n",
        "import tensorflow as tf\n",
        "from tensorflow.keras.layers import Input\n",
        "from tensorflow.keras.layers import Flatten, Dense, Dropout, Conv2D, MaxPooling2D\n"
      ]
    },
    {
      "cell_type": "code",
      "execution_count": null,
      "metadata": {
        "colab": {
          "base_uri": "https://localhost:8080/"
        },
        "id": "gRvYy7lxEnTV",
        "outputId": "b9d9def3-8f35-47b9-c1ec-c5c7de6a0b85"
      },
      "outputs": [],
      "source": [
        "from google.colab import drive\n",
        "drive.mount('/content/drive')"
      ]
    },
    {
      "cell_type": "code",
      "execution_count": null,
      "metadata": {
        "colab": {
          "base_uri": "https://localhost:8080/"
        },
        "id": "XSNA589bE-Ms",
        "outputId": "ea60af5e-2f5f-41b9-e0b9-dc7add819a0f"
      },
      "outputs": [],
      "source": [
        "!unrar x '/content/drive/MyDrive/tomato/train.rar'\n",
        "!unrar x '/content/drive/MyDrive/tomato/val.rar'"
      ]
    },
    {
      "cell_type": "code",
      "execution_count": null,
      "metadata": {
        "colab": {
          "base_uri": "https://localhost:8080/"
        },
        "id": "zYSCPROgE1Jw",
        "outputId": "47cf02c1-6c12-4f9d-acfc-9130d3224c64"
      },
      "outputs": [],
      "source": [
        "import os\n",
        "folder_path1 = '/content/train'\n",
        "folder_path2 = '/content/val'\n",
        "for dirname, _, filenames in os.walk(folder_path1):\n",
        "    print(dirname)"
      ]
    },
    {
      "cell_type": "code",
      "execution_count": null,
      "metadata": {
        "colab": {
          "base_uri": "https://localhost:8080/"
        },
        "id": "xlsZ9dn5EJ4R",
        "outputId": "365b12f7-53f5-4b0a-c879-195ad37c26af"
      },
      "outputs": [],
      "source": [
        "print('Total Bacterial images:', len(os.listdir\n",
        "(folder_path1 + '/Tomato___Bacterial_spot')))\n",
        "print('Total Early blight images:', len(os.listdir(folder_path1 + '/Tomato___Early_blight')))\n",
        "print('Total Late blight images:', len(os.listdir(folder_path1 + '/Tomato___Late_blight')))\n",
        "print('Total Leaf_mold images:', len(os.listdir(folder_path1 + '/Tomato___Leaf_Mold')))\n",
        "print('Total Septoria leaf images:', len(os.listdir(folder_path1 + '/Tomato___Septoria_leaf_spot')))\n",
        "print('Total spider mites images:', len(os.listdir(folder_path1 + '/Tomato___Spider_mites Two-spotted_spider_mite')))\n",
        "print('Total target spot images:', len(os.listdir(folder_path1 + '/Tomato___Target_Spot')))\n",
        "print('Total yellow sopt images:', len(os.listdir(folder_path1 + '/Tomato___Tomato_Yellow_Leaf_Curl_Virus')))\n",
        "print('Total mose:', len(os.listdir(folder_path1 + '/Tomato___Tomato_mosaic_virus')))\n",
        "print('Total healthy:', len(os.listdir(folder_path1 + '/Tomato___healthy')))\n",
        "\n",
        "# /content/tomato/train/Tomato___Early_blight\n"
      ]
    },
    {
      "cell_type": "code",
      "execution_count": 7,
      "metadata": {
        "id": "imr2qaxUEJ4S"
      },
      "outputs": [],
      "source": [
        "from keras.preprocessing import image\n",
        "import matplotlib.pyplot as plt\n",
        "import matplotlib.image as mpimg"
      ]
    },
    {
      "cell_type": "code",
      "execution_count": null,
      "metadata": {
        "colab": {
          "base_uri": "https://localhost:8080/"
        },
        "id": "KRqeuRPoEJ4S",
        "outputId": "3b0622d7-6f16-432a-b40d-24ad540046c4"
      },
      "outputs": [],
      "source": [
        "import os\n",
        "for i in os.listdir(folder_path1):\n",
        "  # print(i)\n",
        "  k= 0\n",
        "  for j in os.listdir(folder_path1 +\"/\"+ i):\n",
        "    os.rename(folder_path1 + \"/\"+i + \"/\" + j, folder_path1 +\"/\"+i+\"/\"+ str(k)+\".JPG\" )\n",
        "    k += 1\n",
        "    print(j)"
      ]
    },
    {
      "cell_type": "code",
      "execution_count": null,
      "metadata": {
        "colab": {
          "base_uri": "https://localhost:8080/",
          "height": 1000
        },
        "id": "ieT0P_AYEJ4S",
        "outputId": "7cecf152-7683-4af4-f06a-0a33e7a31452"
      },
      "outputs": [],
      "source": [
        "from tensorflow.keras.preprocessing import image\n",
        "fig = plt.figure(figsize=(18, 16))\n",
        "\n",
        "# setting values to rows and column variables\n",
        "rows = 2\n",
        "columns = 2\n",
        "\n",
        "# reading images\n",
        "Image1 = image.load_img(folder_path1 + '/Tomato___Bacterial_spot/0.JPG')\n",
        "Image2 = image.load_img(folder_path1 + '/Tomato___Early_blight/101.JPG')\n",
        "Image3 = image.load_img(folder_path1 + '/Tomato___Septoria_leaf_spot/108.JPG')\n",
        "Image4 = image.load_img(folder_path1 + '/Tomato___Tomato_mosaic_virus/142.JPG')\n",
        "\n",
        "fig.add_subplot(rows, columns, 1)\n",
        "plt.imshow(Image1)\n",
        "plt.title(\"First\")\n",
        "\n",
        "fig.add_subplot(rows, columns, 2)\n",
        "plt.imshow(Image2)\n",
        "plt.title(\"Second\")\n",
        "\n",
        "fig.add_subplot(rows, columns, 3)\n",
        "plt.imshow(Image3)\n",
        "plt.title(\"Third\")\n",
        "\n",
        "fig.add_subplot(rows, columns, 4)\n",
        "plt.imshow(Image4)\n",
        "plt.title(\"Fourth\")"
      ]
    },
    {
      "cell_type": "code",
      "execution_count": 10,
      "metadata": {
        "id": "x8iN0tMLEJ4S"
      },
      "outputs": [],
      "source": [
        "train_datagen = ImageDataGenerator(\n",
        "                fill_mode = 'nearest',\n",
        "                validation_split=0.2\n",
        ")"
      ]
    },
    {
      "cell_type": "code",
      "execution_count": null,
      "metadata": {
        "colab": {
          "base_uri": "https://localhost:8080/"
        },
        "id": "hPdO6akyEJ4S",
        "outputId": "4c138613-5338-49b6-98bc-2343407a7a4e"
      },
      "outputs": [],
      "source": [
        "train_generator=train_datagen.flow_from_directory(\n",
        "    folder_path1,\n",
        "    target_size=(108,108),\n",
        "    color_mode='rgb',\n",
        "    class_mode='categorical',\n",
        "    subset='training',\n",
        ")\n",
        "validation_generator=train_datagen.flow_from_directory(\n",
        "    folder_path2,\n",
        "    target_size=(108,108),\n",
        "    color_mode='rgb',\n",
        "    class_mode='categorical',\n",
        "    subset='validation',\n",
        ")\n"
      ]
    },
    {
      "cell_type": "code",
      "execution_count": null,
      "metadata": {
        "colab": {
          "base_uri": "https://localhost:8080/"
        },
        "id": "jfshHEIJEJ4S",
        "outputId": "93142d4a-67e9-4488-bf03-0ebd473b7901"
      },
      "outputs": [],
      "source": [
        "from keras.applications import ResNet50\n",
        "model = tf.keras.models.Sequential([\n",
        "    ResNet50(input_shape=(108,108,3), include_top=False),\n",
        "])\n",
        "for layer in model.layers:\n",
        "  layer.trainable = False\n",
        "\n",
        "model.add(Conv2D(64, (3,3), activation='relu'))\n",
        "model.add(MaxPooling2D(2,2))\n",
        "model.add(Flatten())\n",
        "model.add(Dense(64, activation='sigmoid'))\n",
        "model.add(Dropout(0.4))\n",
        "model.add(Dense(10, activation='softmax'))\n",
        "\n",
        "model.summary()"
      ]
    },
    {
      "cell_type": "code",
      "execution_count": 13,
      "metadata": {
        "id": "Ok_eT0ofEJ4T"
      },
      "outputs": [],
      "source": [
        "model.compile(optimizer='Adam',\n",
        "              loss='categorical_crossentropy',\n",
        "              metrics=['accuracy'])\n"
      ]
    },
    {
      "cell_type": "code",
      "execution_count": null,
      "metadata": {
        "colab": {
          "base_uri": "https://localhost:8080/"
        },
        "id": "E2lr_L-kEJ4T",
        "outputId": "522ddd2f-13fd-4498-8c55-c7458d3301a5"
      },
      "outputs": [],
      "source": [
        "x = model.fit_generator(train_generator,\n",
        "                    validation_data=validation_generator,\n",
        "                    epochs=20,\n",
        "                    verbose=1,\n",
        "                    steps_per_epoch=len(train_generator),\n",
        "                    validation_steps=len(validation_generator,)\n",
        "                    )"
      ]
    },
    {
      "cell_type": "code",
      "execution_count": null,
      "metadata": {
        "colab": {
          "base_uri": "https://localhost:8080/",
          "height": 472
        },
        "id": "VIiFujSKEJ4T",
        "outputId": "4592287d-0560-4c2d-dfa4-30343831e6f2"
      },
      "outputs": [],
      "source": [
        "import matplotlib.pyplot as plt\n",
        "plt.plot(x.history['accuracy'])\n",
        "plt.plot(x.history['val_accuracy'])\n",
        "plt.title('Model accuracy')\n",
        "plt.ylabel('Accuracy')\n",
        "plt.xlabel('Epoch')\n",
        "plt.legend(['Train', 'Validation'], loc='lower right')\n",
        "plt.show()"
      ]
    },
    {
      "cell_type": "code",
      "execution_count": null,
      "metadata": {
        "colab": {
          "base_uri": "https://localhost:8080/",
          "height": 472
        },
        "id": "TbmPZPgBEJ4T",
        "outputId": "b8c8ec72-94f2-4d9d-e669-b222aaa9b03b"
      },
      "outputs": [],
      "source": [
        "plt.plot(x.history['loss'])\n",
        "plt.plot(x.history['val_loss'])\n",
        "plt.title('Model Loss')\n",
        "plt.ylabel('loss')\n",
        "plt.xlabel('Epoch')\n",
        "plt.legend(['Train', 'Validation'], loc='lower right')\n",
        "plt.show()"
      ]
    },
    {
      "cell_type": "code",
      "execution_count": null,
      "metadata": {
        "colab": {
          "base_uri": "https://localhost:8080/"
        },
        "id": "wDmZzk-rEJ4T",
        "outputId": "0a704d1f-bfee-4179-8829-15c1ace617ea"
      },
      "outputs": [],
      "source": [
        "model.save('tomato_leaf_resnet_50.h5')"
      ]
    },
    {
      "cell_type": "code",
      "execution_count": null,
      "metadata": {
        "id": "mTJZo-GoMecG"
      },
      "outputs": [],
      "source": []
    }
  ],
  "metadata": {
    "accelerator": "GPU",
    "colab": {
      "gpuType": "T4",
      "include_colab_link": true,
      "provenance": []
    },
    "kernelspec": {
      "display_name": "Python 3",
      "name": "python3"
    },
    "language_info": {
      "name": "python",
      "version": "3.10.8"
    },
    "orig_nbformat": 4,
    "vscode": {
      "interpreter": {
        "hash": "d4b40df0c755b7cd7f9b0e0448e42f6261c9f35ebd6a0e90793c8db0e907bb10"
      }
    }
  },
  "nbformat": 4,
  "nbformat_minor": 0
}
