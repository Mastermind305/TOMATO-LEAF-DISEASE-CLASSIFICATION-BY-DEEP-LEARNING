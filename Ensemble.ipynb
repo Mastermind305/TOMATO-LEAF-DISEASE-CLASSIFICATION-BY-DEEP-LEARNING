{
  "cells": [
    {
      "cell_type": "markdown",
      "metadata": {
        "colab_type": "text",
        "id": "view-in-github"
      },
      "source": [
        "<a href=\"https://colab.research.google.com/github/Mastermind305/TOMATO-LEAF-DISEASE-CLASSIFICATION-BY-DEEP-LEARNING/blob/main/Ensemble.ipynb\" target=\"_parent\"><img src=\"https://colab.research.google.com/assets/colab-badge.svg\" alt=\"Open In Colab\"/></a>"
      ]
    },
    {
      "cell_type": "code",
      "execution_count": null,
      "metadata": {
        "colab": {
          "base_uri": "https://localhost:8080/"
        },
        "id": "8R6eHGL5b-Ar",
        "outputId": "c3792e2b-5942-4254-d34e-1657f9889c39"
      },
      "outputs": [],
      "source": [
        "from google.colab import drive\n",
        "drive.mount('/content/drive')"
      ]
    },
    {
      "cell_type": "code",
      "execution_count": null,
      "metadata": {
        "colab": {
          "base_uri": "https://localhost:8080/"
        },
        "id": "rt5gRR_X2s5o",
        "outputId": "40731e89-bb87-43e3-f552-75b474338bdd"
      },
      "outputs": [],
      "source": [
        "!pip install unrar"
      ]
    },
    {
      "cell_type": "code",
      "execution_count": null,
      "metadata": {
        "colab": {
          "base_uri": "https://localhost:8080/"
        },
        "id": "bBxY6_Kk2vNY",
        "outputId": "c04a3456-698a-4ebb-d74d-ec0ff0d8a7b2"
      },
      "outputs": [],
      "source": [
        "!unrar x '/content/drive/MyDrive/tomato/train.rar'\n",
        "!unrar x '/content/drive/MyDrive/tomato/val.rar'"
      ]
    },
    {
      "cell_type": "code",
      "execution_count": null,
      "metadata": {
        "id": "1T3NaKgR24Zb"
      },
      "outputs": [],
      "source": [
        "import numpy as np\n",
        "import pandas as pd\n",
        "from tensorflow.keras.preprocessing.image import ImageDataGenerator\n",
        "\n",
        "import tensorflow as tf\n",
        "from tensorflow.keras.layers import Input\n",
        "from tensorflow.keras.layers import Flatten, Dense, Dropout, Conv2D, MaxPooling2D\n",
        "\n",
        "import os"
      ]
    },
    {
      "cell_type": "code",
      "execution_count": null,
      "metadata": {
        "colab": {
          "base_uri": "https://localhost:8080/"
        },
        "id": "de12SHnE21wg",
        "outputId": "21ef8407-354c-49cc-b57d-2b481c4f49c4"
      },
      "outputs": [],
      "source": [
        "folder_path1 = '/content/train'\n",
        "folder_path2 = '/content/val'\n",
        "for dirname, _, filenames in os.walk(folder_path1):\n",
        "    print(dirname)"
      ]
    },
    {
      "cell_type": "code",
      "execution_count": null,
      "metadata": {
        "colab": {
          "base_uri": "https://localhost:8080/"
        },
        "id": "fFApBUg73CZq",
        "outputId": "472b5d5c-eb7d-4e06-97b0-a488d5ec5e75"
      },
      "outputs": [],
      "source": [
        "print('Total Bacterial images:', len(os.listdir(folder_path1 + '/Tomato___Bacterial_spot')))\n",
        "print('Total Early blight images:', len(os.listdir(folder_path1 + '/Tomato___Early_blight')))\n",
        "print('Total Late blight images:', len(os.listdir(folder_path1 + '/Tomato___Late_blight')))\n",
        "print('Total Leaf_mold images:', len(os.listdir(folder_path1 + '/Tomato___Leaf_Mold')))\n",
        "print('Total Septoria leaf images:', len(os.listdir(folder_path1 + '/Tomato___Septoria_leaf_spot')))\n",
        "print('Total spider mites images:', len(os.listdir(folder_path1 + '/Tomato___Spider_mites Two-spotted_spider_mite')))\n",
        "print('Total target spot images:', len(os.listdir(folder_path1 + '/Tomato___Target_Spot')))\n",
        "print('Total yellow sopt images:', len(os.listdir(folder_path1 + '/Tomato___Tomato_Yellow_Leaf_Curl_Virus')))\n",
        "print('Total mose:', len(os.listdir(folder_path1 + '/Tomato___Tomato_mosaic_virus')))\n",
        "print('Total healthy:', len(os.listdir(folder_path1 + '/Tomato___healthy')))"
      ]
    },
    {
      "cell_type": "code",
      "execution_count": null,
      "metadata": {
        "id": "iSLKuBDN3Jij"
      },
      "outputs": [],
      "source": [
        "from keras.preprocessing import image\n",
        "import matplotlib.pyplot as plt\n",
        "import matplotlib.image as mpimg\n",
        "%matplotlib inline"
      ]
    },
    {
      "cell_type": "code",
      "execution_count": null,
      "metadata": {
        "colab": {
          "base_uri": "https://localhost:8080/"
        },
        "id": "6ElWgzP63K4Y",
        "outputId": "6645f777-9955-4f86-a247-e06e67625ad3"
      },
      "outputs": [],
      "source": [
        "import os\n",
        "for i in os.listdir(folder_path1):\n",
        "  # print(i)\n",
        "  k= 0\n",
        "  for j in os.listdir(folder_path1 +\"/\"+ i):\n",
        "    os.rename(folder_path1 + \"/\"+i + \"/\" + j, folder_path1 +\"/\"+i+\"/\"+ str(k)+\".JPG\" )\n",
        "    k += 1\n",
        "    print(j)"
      ]
    },
    {
      "cell_type": "code",
      "execution_count": null,
      "metadata": {
        "id": "lnEA9IzUYO6Y"
      },
      "outputs": [],
      "source": [
        "from tensorflow.keras.models import Model, load_model"
      ]
    },
    {
      "cell_type": "code",
      "execution_count": null,
      "metadata": {
        "id": "6EScj1mRZn7q"
      },
      "outputs": [],
      "source": [
        "model_1 = load_model('/content/tomato_leaf_resnet_50.h5')\n",
        "\n",
        "model_2 = load_model('/content/model_vgg16.h5')\n"
      ]
    },
    {
      "cell_type": "code",
      "execution_count": null,
      "metadata": {
        "colab": {
          "base_uri": "https://localhost:8080/"
        },
        "id": "-O3M_aafbSdl",
        "outputId": "f93d0d5f-0590-439d-87de-c86cc1d9f3f9"
      },
      "outputs": [],
      "source": [
        "model_1.summary()"
      ]
    },
    {
      "cell_type": "code",
      "execution_count": null,
      "metadata": {
        "colab": {
          "base_uri": "https://localhost:8080/"
        },
        "id": "ZV4Iwnj72ZSJ",
        "outputId": "243e9715-b871-48f8-b0cf-ccf3661e1f8b"
      },
      "outputs": [],
      "source": [
        "model_2.summary()"
      ]
    },
    {
      "cell_type": "code",
      "execution_count": null,
      "metadata": {
        "id": "wSWLPL3v1Jzs"
      },
      "outputs": [],
      "source": [
        "image_path='/content/val/Tomato___Late_blight/00ce4c63-9913-4b16-898c-29f99acf0dc3___RS_Late.B 4982.JPG'"
      ]
    },
    {
      "cell_type": "code",
      "execution_count": null,
      "metadata": {
        "id": "y4cyeBZS5KAZ"
      },
      "outputs": [],
      "source": [
        "def process_image_resnet(image_path):\n",
        "  \"\"\"\n",
        "  Preprocess image for ResNet50 model.\n",
        "  \"\"\"\n",
        "  # Read in an image file\n",
        "  image = tf.io.read_file(image_path)\n",
        "  # Turn the jpeg image into numerical Tensor with 3 colour channels (Red, Green, Blue)\n",
        "  image = tf.image.decode_jpeg(image, channels=3)\n",
        "  # Convert the colour channel values from 0-255 to 0-1 values\n",
        "  image = tf.image.convert_image_dtype(image, tf.float32)\n",
        "  # Resize the image to match the expected input shape of ResNet50\n",
        "  image = tf.image.resize(image,[108,108])\n",
        "  return image\n",
        "\n",
        "def process_image_vgg16(image_path):\n",
        "  \"\"\"\n",
        "  Preprocess image for VGG16 model.\n",
        "  \"\"\"\n",
        "  # Read in an image file\n",
        "  image = tf.io.read_file(image_path)\n",
        "  # Turn the jpeg image into numerical Tensor with 3 colour channels (Red, Green, Blue)\n",
        "  image = tf.image.decode_jpeg(image, channels=3)\n",
        "  # Convert the colour channel values from 0-255 to 0-1 values\n",
        "  image = tf.image.convert_image_dtype(image, tf.float32)\n",
        "  # Resize the image to match the expected input shape of ResNet50\n",
        "  image = tf.image.resize(image,[224,224])\n",
        "  return image\n",
        "\n",
        "# Use the appropriate function based on the model\n",
        "p1 = process_image_resnet(image_path)\n",
        "p2 = process_image_vgg16(image_path)\n",
        "\n"
      ]
    },
    {
      "cell_type": "code",
      "execution_count": null,
      "metadata": {
        "colab": {
          "base_uri": "https://localhost:8080/"
        },
        "id": "h57WLjMN39fA",
        "outputId": "a002f4ae-a8eb-4692-df4a-2c27f6a2f0dc"
      },
      "outputs": [],
      "source": [
        "dataset_test = tf.keras.preprocessing.image_dataset_from_directory(\n",
        "    folder_path2,\n",
        "    seed=123,\n",
        "    shuffle=True,\n",
        "    image_size=(150,150),\n",
        "    batch_size=32\n",
        ")"
      ]
    },
    {
      "cell_type": "code",
      "execution_count": null,
      "metadata": {
        "colab": {
          "base_uri": "https://localhost:8080/"
        },
        "id": "h8Y42ij63_Qf",
        "outputId": "bab86503-15e7-4474-fb4d-fe5eee7b6ecc"
      },
      "outputs": [],
      "source": [
        "class_names = dataset_test.class_names\n",
        "class_names"
      ]
    },
    {
      "cell_type": "code",
      "execution_count": null,
      "metadata": {
        "id": "O9DKPxhR3Uw2"
      },
      "outputs": [],
      "source": [
        "p1=process_image_resnet(image_path)"
      ]
    },
    {
      "cell_type": "code",
      "execution_count": null,
      "metadata": {
        "colab": {
          "base_uri": "https://localhost:8080/",
          "height": 451
        },
        "id": "TblvNelQ3XNh",
        "outputId": "c5615bda-6d1e-4c88-f4a0-b4227fb59b3e"
      },
      "outputs": [],
      "source": [
        "plt.imshow(process_image_resnet(image_path))"
      ]
    },
    {
      "cell_type": "code",
      "execution_count": null,
      "metadata": {
        "id": "HtM1OgZQ3ZAV"
      },
      "outputs": [],
      "source": [
        "p1=p1.numpy().reshape(1,108,108,3)"
      ]
    },
    {
      "cell_type": "code",
      "execution_count": null,
      "metadata": {
        "id": "6x2YkfJV4W7-"
      },
      "outputs": [],
      "source": [
        "p2=p2.numpy().reshape(1,224,224,3)"
      ]
    },
    {
      "cell_type": "code",
      "execution_count": null,
      "metadata": {
        "colab": {
          "base_uri": "https://localhost:8080/"
        },
        "id": "HbumsdJo3ayW",
        "outputId": "b5ad1a75-5c49-4430-f49d-7f8f5989eac4"
      },
      "outputs": [],
      "source": [
        "q=model_1.predict(p1)\n",
        "r=model_2.predict(p2)\n",
        "#s=model_3.predict(p3)\n",
        "#t=model_4.predict(p1)"
      ]
    },
    {
      "cell_type": "code",
      "execution_count": null,
      "metadata": {
        "id": "wPZ0sTM83s74"
      },
      "outputs": [],
      "source": [
        "# pred=(q+r)/2\n",
        "pred=(q+r)/2"
      ]
    },
    {
      "cell_type": "code",
      "execution_count": null,
      "metadata": {
        "colab": {
          "base_uri": "https://localhost:8080/"
        },
        "id": "tL0dnXNO3ywy",
        "outputId": "7b5224de-8fdd-45dc-dc7d-293abe9fdc89"
      },
      "outputs": [],
      "source": [
        "print(\"predicted label:\",class_names[np.argmax(pred[0])])"
      ]
    }
  ],
  "metadata": {
    "accelerator": "GPU",
    "colab": {
      "gpuType": "T4",
      "include_colab_link": true,
      "provenance": []
    },
    "kernelspec": {
      "display_name": "Python 3",
      "name": "python3"
    },
    "language_info": {
      "name": "python"
    }
  },
  "nbformat": 4,
  "nbformat_minor": 0
}
